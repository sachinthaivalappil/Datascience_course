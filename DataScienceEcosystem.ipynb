{
 "cells": [
  {
   "cell_type": "markdown",
   "id": "44a96a8a",
   "metadata": {},
   "source": [
    "# Exercise 2\n",
    "# Data Science Tools and Ecosystem"
   ]
  },
  {
   "cell_type": "markdown",
   "id": "791cab85",
   "metadata": {},
   "source": [
    "# Exercise 3\n",
    "# Introduction\n",
    "In this notebook, Data Science Tools and Ecosystem are summarized\n"
   ]
  },
  {
   "cell_type": "markdown",
   "id": "adf068f8",
   "metadata": {},
   "source": [
    "# Exercise 4\n",
    "Some of the popular languages that Data Scientists use are:\n",
    "    1.python\n",
    "    2.R\n",
    "    3.SQL\n"
   ]
  },
  {
   "cell_type": "markdown",
   "id": "7b01b23c",
   "metadata": {},
   "source": [
    "# Exercise 5\n",
    "## Some of the popular languages that Data Scientists use are:\n",
    "## Here are some of the most popular data science libraries that you may encounter while working with data:\n",
    "## NumPy: a library for numerical computing in Python that provides support for arrays, matrices, and complex mathematical functions.\n",
    "## Pandas: a library for data manipulation and analysis that provides data structures such as DataFrames and Series, which are used to store and manipulate tabular data.\n",
    "## Matplotlib: a library for creating visualizations in Python, which provides a wide range of plotting functions to create various types of charts and graphs.\n",
    "## Seaborn: a data visualization library based on Matplotlib that provides a high-level interface for creating statistical graphics.\n",
    "## Scikit-learn: a library for machine learning in Python, which provides a range of algorithms for classification, regression, clustering, and dimensionality reduction.\n",
    "## TensorFlow: an open-source machine learning library developed by Google, which provides tools for building and training deep neural networks.\n",
    "## Keras: a high-level neural networks API, written in Python and capable of running on top of TensorFlow, which provides an easy-to-use interface for building and training deep learning models."
   ]
  },
  {
   "cell_type": "markdown",
   "id": "8a480e03",
   "metadata": {},
   "source": [
    "# Exercise 6\n",
    "## Data Science Tools\n",
    "# Jupyter Notebook An open-source web application that allows you to create and share documents that contain live code, equations, visualizations, and narrative text.\n",
    "# RStudio An integrated development environment (IDE) for R programming language, which provides tools for data manipulation, analysis, and visualization.\n",
    "# Python A high-level programming language that is widely used for data science, machine learning, and scientific computing.\n",
    "# R A programming language that is widely used for statistical computing, data analysis, and graphics.\n",
    "# SQL A domain-specific language used in programming and designed for managing and manipulating data in relational database management systems (RDBMS).\n",
    "# Hadoop An open-source framework for distributed storage and processing of large datasets across clusters of computers.\n",
    "# Spark An open-source distributed computing system that is designed for big data processing and analytics."
   ]
  },
  {
   "cell_type": "markdown",
   "id": "031b0ac6",
   "metadata": {},
   "source": [
    "# Exercise 7\n",
    "### Below are a few examples of evaluating arithmetic expressions in Python"
   ]
  },
  {
   "cell_type": "markdown",
   "id": "83856726",
   "metadata": {},
   "source": [
    "# Exercise 8 "
   ]
  },
  {
   "cell_type": "code",
   "execution_count": 3,
   "id": "6825aecb",
   "metadata": {},
   "outputs": [
    {
     "data": {
      "text/plain": [
       "17"
      ]
     },
     "execution_count": 3,
     "metadata": {},
     "output_type": "execute_result"
    }
   ],
   "source": [
    "(3*4)+5"
   ]
  },
  {
   "cell_type": "markdown",
   "id": "cb577f1e",
   "metadata": {},
   "source": [
    "# Exercise 9"
   ]
  },
  {
   "cell_type": "code",
   "execution_count": 4,
   "id": "30c06807",
   "metadata": {},
   "outputs": [
    {
     "name": "stdout",
     "output_type": "stream",
     "text": [
      "200 minutes is equal to 3.3333333333333335 hours.\n"
     ]
    }
   ],
   "source": [
    "minutes = 200\n",
    "hours = minutes / 60\n",
    "\n",
    "print(\"200 minutes is equal to\", hours, \"hours.\")"
   ]
  },
  {
   "cell_type": "markdown",
   "id": "b2c026d2",
   "metadata": {},
   "source": [
    "# Exercise 10 "
   ]
  },
  {
   "cell_type": "markdown",
   "id": "96a22837",
   "metadata": {},
   "source": [
    "## Objective\n",
    "* List popular languages for Data Science.\n",
    "* Identify common data science libraries and frameworks.\n",
    "* Describe the role of Jupyter Notebook in data science.\n",
    "* Understand the basics of data visualization using Matplotlib and Seaborn.\n"
   ]
  },
  {
   "cell_type": "markdown",
   "id": "44efde6a",
   "metadata": {},
   "source": [
    "# Exercise 11\n"
   ]
  },
  {
   "cell_type": "markdown",
   "id": "835116b1",
   "metadata": {},
   "source": [
    "# Author\n",
    "Sachin T S"
   ]
  },
  {
   "cell_type": "code",
   "execution_count": null,
   "id": "a97ceadf",
   "metadata": {},
   "outputs": [],
   "source": []
  },
  {
   "cell_type": "code",
   "execution_count": null,
   "id": "5f9010ba",
   "metadata": {},
   "outputs": [],
   "source": []
  },
  {
   "cell_type": "code",
   "execution_count": null,
   "id": "a0ec6fdc",
   "metadata": {},
   "outputs": [],
   "source": []
  },
  {
   "cell_type": "code",
   "execution_count": null,
   "id": "690bc3cb",
   "metadata": {},
   "outputs": [],
   "source": []
  },
  {
   "cell_type": "code",
   "execution_count": null,
   "id": "1268dd93",
   "metadata": {},
   "outputs": [],
   "source": []
  },
  {
   "cell_type": "code",
   "execution_count": null,
   "id": "b59c710b",
   "metadata": {},
   "outputs": [],
   "source": []
  }
 ],
 "metadata": {
  "kernelspec": {
   "display_name": "Python 3 (ipykernel)",
   "language": "python",
   "name": "python3"
  },
  "language_info": {
   "codemirror_mode": {
    "name": "ipython",
    "version": 3
   },
   "file_extension": ".py",
   "mimetype": "text/x-python",
   "name": "python",
   "nbconvert_exporter": "python",
   "pygments_lexer": "ipython3",
   "version": "3.10.3"
  }
 },
 "nbformat": 4,
 "nbformat_minor": 5
}
